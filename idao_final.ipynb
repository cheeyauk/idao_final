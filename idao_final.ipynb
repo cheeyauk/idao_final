{
 "cells": [
  {
   "cell_type": "markdown",
   "metadata": {
    "scrolled": true
   },
   "source": [
    "# Final Code for IDAO - Training XGBOOST Model"
   ]
  },
  {
   "cell_type": "markdown",
   "metadata": {},
   "source": [
    "# Part 1. Data Preprocessing"
   ]
  },
  {
   "cell_type": "code",
   "execution_count": 4,
   "metadata": {},
   "outputs": [],
   "source": [
    "import pandas as pd\n",
    "import numpy as np\n",
    "import re\n",
    "import os\n",
    "import xgboost\n",
    "from sklearn.preprocessing import LabelEncoder\n",
    "from sklearn.model_selection import train_test_split\n",
    "from sklearn.preprocessing import StandardScaler\n",
    "import swifter\n",
    "from idao_util import utils\n",
    "pd.options.display.max_columns = 999\n",
    "pd.options.display.max_rows = 999"
   ]
  },
  {
   "cell_type": "code",
   "execution_count": 2,
   "metadata": {},
   "outputs": [],
   "source": [
    "# Short cut for loading all preprocessed data\n",
    "#data = pd.read_hdf('train_full.hdf')"
   ]
  },
  {
   "cell_type": "code",
   "execution_count": 5,
   "metadata": {},
   "outputs": [],
   "source": [
    "# Please put the hdf files in root directory\n",
    "data = pd.read_hdf('train_part_1_v2.hdf')\n",
    "data = pd.concat([data,pd.read_hdf('train_part_2_v2.hdf')])"
   ]
  },
  {
   "cell_type": "code",
   "execution_count": 6,
   "metadata": {},
   "outputs": [],
   "source": [
    "# Feature eng.\n",
    "data['FOI_hits_b1_num']= data['FOI_hits_S'].apply(lambda x:list(x).count(1))\n",
    "data['FOI_hits_b2_num']= data['FOI_hits_S'].apply(lambda x:list(x).count(2))\n",
    "data['FOI_hits_b3_num']= data['FOI_hits_S'].apply(lambda x:list(x).count(3))\n",
    "data['FOI_hits_b4_num']= data['FOI_hits_S'].apply(lambda x:list(x).count(4))\n",
    "data['FOI_hits_DX_ave']= data['FOI_hits_DX'].apply(lambda x:np.mean(x))\n",
    "data['FOI_hits_DY_ave']= data['FOI_hits_DY'].apply(lambda x:np.mean(x))\n",
    "data['FOI_hits_DZ_ave']= data['FOI_hits_DZ'].apply(lambda x:np.mean(x))\n",
    "data['FOI_hits_DT_ave']= data['FOI_hits_DT'].apply(lambda x:np.mean(x))"
   ]
  },
  {
   "cell_type": "code",
   "execution_count": 7,
   "metadata": {},
   "outputs": [],
   "source": [
    "# Calc total time\n",
    "data['MatchedHit_T'] = data['MatchedHit_T[0]'] + data['MatchedHit_T[1]'] + data['MatchedHit_T[2]'] + data['MatchedHit_T[3]']"
   ]
  },
  {
   "cell_type": "code",
   "execution_count": 8,
   "metadata": {},
   "outputs": [
    {
     "name": "stderr",
     "output_type": "stream",
     "text": [
      "Pandas Apply: 100%|██████████| 5445705/5445705 [45:31<00:00, 1993.82it/s]\n"
     ]
    }
   ],
   "source": [
    "closest_hits_features = data.swifter.apply(\n",
    "    utils.find_closest_hit_per_station, result_type=\"expand\", axis=1)"
   ]
  },
  {
   "cell_type": "code",
   "execution_count": 9,
   "metadata": {},
   "outputs": [],
   "source": [
    "\n",
    "data = pd.concat(\n",
    "    [data.loc[:, utils.SIMPLE_FEATURE_COLUMNS+['weight','FOI_hits_b1_num','FOI_hits_b2_num','FOI_hits_b3_num','FOI_hits_b4_num','label',\n",
    "                                              'MatchedHit_T','FOI_hits_DX_ave','FOI_hits_DY_ave','FOI_hits_DZ_ave','FOI_hits_DT_ave','particle_type'],\n",
    "             ],\n",
    "     closest_hits_features], axis=1)"
   ]
  },
  {
   "cell_type": "code",
   "execution_count": null,
   "metadata": {},
   "outputs": [],
   "source": [
    "# Saving data in case of reload (skip all preprocessing)\n",
    "\n",
    "#data.to_hdf('train_full.hdf', key='data', mode='w')"
   ]
  },
  {
   "cell_type": "code",
   "execution_count": 10,
   "metadata": {},
   "outputs": [],
   "source": [
    "label = data['label'].values\n",
    "data = data.drop(['label'],axis = 1)"
   ]
  },
  {
   "cell_type": "code",
   "execution_count": 11,
   "metadata": {},
   "outputs": [],
   "source": [
    "label_encoder = LabelEncoder()\n",
    "data['ndof'] = label_encoder.fit_transform(data['ndof'])"
   ]
  },
  {
   "cell_type": "code",
   "execution_count": 12,
   "metadata": {},
   "outputs": [],
   "source": [
    "data_columns = ['MatchedHit_TYPE[0]','MatchedHit_TYPE[1]','MatchedHit_TYPE[2]','MatchedHit_TYPE[3]']"
   ]
  },
  {
   "cell_type": "code",
   "execution_count": 13,
   "metadata": {},
   "outputs": [],
   "source": [
    "data = pd.get_dummies(data,columns=data_columns)"
   ]
  },
  {
   "cell_type": "code",
   "execution_count": 14,
   "metadata": {},
   "outputs": [],
   "source": [
    "# Feature Engineering 2\n",
    "data['Missing_[2]'] = data['MatchedHit_X[2]'].apply(lambda x: int(x == -9999))\n",
    "data['Missing_[3]'] = data['MatchedHit_X[3]'].apply(lambda x: int(x == -9999))\n",
    "data['Missing_DT[0]'] = data['MatchedHit_DT[0]'].apply(lambda x: int(x == -1))\n",
    "data['Missing_DT[1]'] = data['MatchedHit_DT[1]'].apply(lambda x: int(x == -1))\n",
    "data['Missing_DT[2]'] = data['MatchedHit_DT[2]'].apply(lambda x: int(x == -1))\n",
    "data['Missing_DT[3]'] = data['MatchedHit_DT[3]'].apply(lambda x: int(x == -1))"
   ]
  },
  {
   "cell_type": "code",
   "execution_count": 15,
   "metadata": {},
   "outputs": [],
   "source": [
    "# Feature Engineering 3\n",
    "data['sum_cl'] = data['ncl[0]'] + data['ncl[1]'] + data['ncl[2]'] + data['ncl[3]']\n",
    "data['sum_cs'] = data['avg_cs[0]'] + data['avg_cs[1]'] + data['avg_cs[2]'] + data['avg_cs[3]']"
   ]
  },
  {
   "cell_type": "code",
   "execution_count": 17,
   "metadata": {},
   "outputs": [],
   "source": [
    "# cure data\n",
    "data[24] = data[24].apply(lambda x: 0 if np.isnan(x) else x)"
   ]
  },
  {
   "cell_type": "markdown",
   "metadata": {},
   "source": [
    "# Part 2. Training"
   ]
  },
  {
   "cell_type": "code",
   "execution_count": 18,
   "metadata": {},
   "outputs": [],
   "source": [
    "# Train - test split\n",
    "X_train, X_validation,y_train,y_validation = train_test_split(data,label, test_size=0.03, shuffle=True)"
   ]
  },
  {
   "cell_type": "code",
   "execution_count": 19,
   "metadata": {},
   "outputs": [],
   "source": [
    "particle_train = X_train['particle_type']\n",
    "particle_validation = X_validation['particle_type']"
   ]
  },
  {
   "cell_type": "code",
   "execution_count": 20,
   "metadata": {},
   "outputs": [],
   "source": [
    "X_train = X_train.drop('particle_type',axis=1)\n",
    "X_validation = X_validation.drop('particle_type',axis=1)"
   ]
  },
  {
   "cell_type": "code",
   "execution_count": 21,
   "metadata": {},
   "outputs": [],
   "source": [
    "import idao_util.scoring as scoring\n",
    "import idao_util.utils as utils"
   ]
  },
  {
   "cell_type": "code",
   "execution_count": 22,
   "metadata": {},
   "outputs": [],
   "source": [
    "# Limit the priority of the high sample weights, but retain the direction/sign \n",
    "X_train['weight']=X_train['weight'].apply(lambda x: x if abs(x) <200 else np.sign(x) * 200)"
   ]
  },
  {
   "cell_type": "code",
   "execution_count": 23,
   "metadata": {},
   "outputs": [],
   "source": [
    "# Feature engineering 4 based on top features using feature importance of previous training\n",
    "X_train['FE_1']= X_train['PT'] * X_train[3] \n",
    "X_train['FE_2']= X_train['sum_cs'] * X_train[6] \n",
    "X_validation['FE_1']= X_validation['PT'] * X_validation[3] \n",
    "X_validation['FE_2']= X_validation['sum_cs'] * X_validation[6] \n"
   ]
  },
  {
   "cell_type": "code",
   "execution_count": 24,
   "metadata": {},
   "outputs": [],
   "source": [
    "# drop weights\n",
    "weight_train = X_train['weight'].values\n",
    "weight_validation = X_validation['weight'].values\n",
    "X_train = X_train.drop('weight',axis=1)\n",
    "X_validation = X_validation.drop('weight',axis=1)\n"
   ]
  },
  {
   "cell_type": "code",
   "execution_count": 25,
   "metadata": {},
   "outputs": [],
   "source": [
    "from idao_util import scoring"
   ]
  },
  {
   "cell_type": "code",
   "execution_count": 26,
   "metadata": {},
   "outputs": [
    {
     "data": {
      "text/plain": [
       "173"
      ]
     },
     "execution_count": 26,
     "metadata": {},
     "output_type": "execute_result"
    }
   ],
   "source": [
    "import gc \n",
    "gc.collect()"
   ]
  },
  {
   "cell_type": "code",
   "execution_count": 27,
   "metadata": {},
   "outputs": [],
   "source": [
    "# Initialize xgb models (param chosen using grid search)\n",
    "xgb = xgboost.XGBClassifier(max_depth= 10, gamma=0.5,min_child_weight=5,subsample=1,colsample_bytree=0.6,n_estimators=300,n_jobs=-1,verbose_eval=True)"
   ]
  },
  {
   "cell_type": "code",
   "execution_count": 28,
   "metadata": {},
   "outputs": [],
   "source": [
    "eval_set = [(X_validation.values,y_validation)]\n"
   ]
  },
  {
   "cell_type": "code",
   "execution_count": 29,
   "metadata": {},
   "outputs": [
    {
     "name": "stdout",
     "output_type": "stream",
     "text": [
      "[15:19:35] Tree method is automatically selected to be 'approx' for faster speed. To use old behavior (exact greedy algorithm on single machine), set tree_method to 'exact'.\n",
      "[0]\tvalidation_0-error:0.140624\n",
      "[2]\tvalidation_0-error:0.105147\n",
      "[4]\tvalidation_0-error:0.105281\n",
      "[6]\tvalidation_0-error:0.100237\n",
      "[8]\tvalidation_0-error:0.099558\n",
      "[10]\tvalidation_0-error:0.098885\n",
      "[12]\tvalidation_0-error:0.098732\n",
      "[14]\tvalidation_0-error:0.098383\n",
      "[16]\tvalidation_0-error:0.098395\n",
      "[18]\tvalidation_0-error:0.097912\n",
      "[20]\tvalidation_0-error:0.098132\n",
      "[22]\tvalidation_0-error:0.098628\n",
      "[24]\tvalidation_0-error:0.098713\n",
      "[26]\tvalidation_0-error:0.098175\n",
      "[28]\tvalidation_0-error:0.098897\n",
      "[30]\tvalidation_0-error:0.099075\n",
      "[32]\tvalidation_0-error:0.099258\n",
      "[34]\tvalidation_0-error:0.099821\n",
      "[36]\tvalidation_0-error:0.099852\n",
      "[38]\tvalidation_0-error:0.099717\n",
      "[40]\tvalidation_0-error:0.099772\n",
      "[42]\tvalidation_0-error:0.099105\n",
      "[44]\tvalidation_0-error:0.09897\n",
      "[46]\tvalidation_0-error:0.098622\n",
      "[48]\tvalidation_0-error:0.098921\n",
      "[50]\tvalidation_0-error:0.098934\n",
      "[52]\tvalidation_0-error:0.09883\n",
      "[54]\tvalidation_0-error:0.098554\n",
      "[56]\tvalidation_0-error:0.09875\n",
      "[58]\tvalidation_0-error:0.098897\n",
      "[60]\tvalidation_0-error:0.09886\n",
      "[62]\tvalidation_0-error:0.098573\n",
      "[64]\tvalidation_0-error:0.098187\n",
      "[66]\tvalidation_0-error:0.098224\n",
      "[68]\tvalidation_0-error:0.098034\n",
      "[70]\tvalidation_0-error:0.097991\n",
      "[72]\tvalidation_0-error:0.097746\n",
      "[74]\tvalidation_0-error:0.09782\n",
      "[76]\tvalidation_0-error:0.097801\n",
      "[78]\tvalidation_0-error:0.097703\n",
      "[80]\tvalidation_0-error:0.097495\n",
      "[82]\tvalidation_0-error:0.097153\n",
      "[84]\tvalidation_0-error:0.096877\n",
      "[86]\tvalidation_0-error:0.096657\n",
      "[88]\tvalidation_0-error:0.096394\n",
      "[90]\tvalidation_0-error:0.096038\n",
      "[92]\tvalidation_0-error:0.096069\n",
      "[94]\tvalidation_0-error:0.095714\n",
      "[96]\tvalidation_0-error:0.095475\n",
      "[98]\tvalidation_0-error:0.095053\n",
      "[100]\tvalidation_0-error:0.094784\n",
      "[102]\tvalidation_0-error:0.094674\n",
      "[104]\tvalidation_0-error:0.094588\n",
      "[106]\tvalidation_0-error:0.094447\n",
      "[108]\tvalidation_0-error:0.094214\n",
      "[110]\tvalidation_0-error:0.093866\n",
      "[112]\tvalidation_0-error:0.093823\n",
      "[114]\tvalidation_0-error:0.093706\n",
      "[116]\tvalidation_0-error:0.093615\n",
      "[118]\tvalidation_0-error:0.093345\n",
      "[120]\tvalidation_0-error:0.093168\n",
      "[122]\tvalidation_0-error:0.093155\n",
      "[124]\tvalidation_0-error:0.092849\n",
      "[126]\tvalidation_0-error:0.092543\n",
      "[128]\tvalidation_0-error:0.092103\n",
      "[130]\tvalidation_0-error:0.09195\n",
      "[132]\tvalidation_0-error:0.091619\n",
      "[134]\tvalidation_0-error:0.091234\n",
      "[136]\tvalidation_0-error:0.091007\n",
      "[138]\tvalidation_0-error:0.090781\n",
      "[140]\tvalidation_0-error:0.090383\n",
      "[142]\tvalidation_0-error:0.090162\n",
      "[144]\tvalidation_0-error:0.089783\n",
      "[146]\tvalidation_0-error:0.089348\n",
      "[148]\tvalidation_0-error:0.088987\n",
      "[150]\tvalidation_0-error:0.08873\n",
      "[152]\tvalidation_0-error:0.088773\n",
      "[154]\tvalidation_0-error:0.088546\n",
      "[156]\tvalidation_0-error:0.088357\n",
      "[158]\tvalidation_0-error:0.087891\n",
      "[160]\tvalidation_0-error:0.087738\n",
      "[162]\tvalidation_0-error:0.087647\n",
      "[164]\tvalidation_0-error:0.087451\n",
      "[166]\tvalidation_0-error:0.087218\n",
      "[168]\tvalidation_0-error:0.087151\n",
      "[170]\tvalidation_0-error:0.086918\n",
      "[172]\tvalidation_0-error:0.086973\n",
      "[174]\tvalidation_0-error:0.086857\n",
      "[176]\tvalidation_0-error:0.086453\n",
      "[178]\tvalidation_0-error:0.086165\n",
      "[180]\tvalidation_0-error:0.08578\n",
      "[182]\tvalidation_0-error:0.085614\n",
      "[184]\tvalidation_0-error:0.085455\n",
      "[186]\tvalidation_0-error:0.08518\n",
      "[188]\tvalidation_0-error:0.084886\n",
      "[190]\tvalidation_0-error:0.084825\n",
      "[192]\tvalidation_0-error:0.084678\n",
      "[194]\tvalidation_0-error:0.084507\n",
      "[196]\tvalidation_0-error:0.084378\n",
      "[198]\tvalidation_0-error:0.084366\n",
      "[200]\tvalidation_0-error:0.084311\n",
      "[202]\tvalidation_0-error:0.084262\n",
      "[204]\tvalidation_0-error:0.084047\n",
      "[206]\tvalidation_0-error:0.083943\n",
      "[208]\tvalidation_0-error:0.083711\n",
      "[210]\tvalidation_0-error:0.083503\n",
      "[212]\tvalidation_0-error:0.083344\n",
      "[214]\tvalidation_0-error:0.083068\n",
      "[216]\tvalidation_0-error:0.082946\n",
      "[218]\tvalidation_0-error:0.082689\n",
      "[220]\tvalidation_0-error:0.082389\n",
      "[222]\tvalidation_0-error:0.082376\n",
      "[224]\tvalidation_0-error:0.082132\n",
      "[226]\tvalidation_0-error:0.081997\n",
      "[228]\tvalidation_0-error:0.081636\n",
      "[230]\tvalidation_0-error:0.081636\n",
      "[232]\tvalidation_0-error:0.081415\n",
      "[234]\tvalidation_0-error:0.081403\n",
      "[236]\tvalidation_0-error:0.081342\n",
      "[238]\tvalidation_0-error:0.081238\n",
      "[240]\tvalidation_0-error:0.08106\n",
      "[242]\tvalidation_0-error:0.080956\n",
      "[244]\tvalidation_0-error:0.080901\n",
      "[246]\tvalidation_0-error:0.080962\n",
      "[248]\tvalidation_0-error:0.080809\n",
      "[250]\tvalidation_0-error:0.080565\n",
      "[252]\tvalidation_0-error:0.080522\n",
      "[254]\tvalidation_0-error:0.080412\n",
      "[256]\tvalidation_0-error:0.08035\n",
      "[258]\tvalidation_0-error:0.080228\n",
      "[260]\tvalidation_0-error:0.079983\n",
      "[262]\tvalidation_0-error:0.079995\n",
      "[264]\tvalidation_0-error:0.079928\n",
      "[266]\tvalidation_0-error:0.07983\n",
      "[268]\tvalidation_0-error:0.079573\n",
      "[270]\tvalidation_0-error:0.079481\n",
      "[272]\tvalidation_0-error:0.07931\n",
      "[274]\tvalidation_0-error:0.079218\n",
      "[276]\tvalidation_0-error:0.0792\n",
      "[278]\tvalidation_0-error:0.079053\n",
      "[280]\tvalidation_0-error:0.078936\n",
      "[282]\tvalidation_0-error:0.078612\n",
      "[284]\tvalidation_0-error:0.078208\n",
      "[286]\tvalidation_0-error:0.07811\n",
      "[288]\tvalidation_0-error:0.078092\n",
      "[290]\tvalidation_0-error:0.077847\n",
      "[292]\tvalidation_0-error:0.077773\n",
      "[294]\tvalidation_0-error:0.077651\n",
      "[296]\tvalidation_0-error:0.077449\n",
      "[298]\tvalidation_0-error:0.077327\n",
      "[299]\tvalidation_0-error:0.077302\n"
     ]
    },
    {
     "data": {
      "text/plain": [
       "XGBClassifier(base_score=0.5, booster='gbtree', colsample_bylevel=1,\n",
       "       colsample_bytree=0.6, gamma=0.5, learning_rate=0.1,\n",
       "       max_delta_step=0, max_depth=10, min_child_weight=5, missing=None,\n",
       "       n_estimators=300, n_jobs=-1, nthread=None,\n",
       "       objective='binary:logistic', random_state=0, reg_alpha=0,\n",
       "       reg_lambda=1, scale_pos_weight=1, seed=None, silent=True,\n",
       "       subsample=1, verbose_eval=True)"
      ]
     },
     "execution_count": 29,
     "metadata": {},
     "output_type": "execute_result"
    }
   ],
   "source": [
    "xgb.fit(X_train.values,\n",
    "          y_train, eval_set = eval_set,\n",
    "          sample_weight =weight_train,verbose = 2)"
   ]
  },
  {
   "cell_type": "code",
   "execution_count": 30,
   "metadata": {},
   "outputs": [
    {
     "data": {
      "text/plain": [
       "0.9226978919276253"
      ]
     },
     "execution_count": 30,
     "metadata": {},
     "output_type": "execute_result"
    }
   ],
   "source": [
    "from sklearn.metrics import accuracy_score\n",
    "predictions = xgb.predict_proba(X_validation.values)\n",
    "accuracy_score(predictions.argmax(axis=1),y_validation)"
   ]
  },
  {
   "cell_type": "code",
   "execution_count": 31,
   "metadata": {},
   "outputs": [],
   "source": [
    "from matplotlib import pyplot as plt\n",
    "import itertools\n",
    "def plot_confusion_matrix(cm, classes,\n",
    "                          normalize=False,\n",
    "                          title='Confusion matrix',\n",
    "                          cmap=plt.cm.Blues):\n",
    "    \"\"\"\n",
    "    This function prints and plots the confusion matrix.\n",
    "    Normalization can be applied by setting `normalize=True`.\n",
    "    \"\"\"\n",
    "    if normalize:\n",
    "        cm = cm.astype('float') / cm.sum(axis=1)[:, np.newaxis]\n",
    "        print(\"Normalized confusion matrix\")\n",
    "    else:\n",
    "        print('Confusion matrix, without normalization')\n",
    "\n",
    "    print(cm)\n",
    "\n",
    "    plt.imshow(cm, interpolation='nearest', cmap=cmap)\n",
    "    plt.title(title)\n",
    "    plt.colorbar()\n",
    "    tick_marks = np.arange(len(classes))\n",
    "    plt.xticks(tick_marks, classes, rotation=45)\n",
    "    plt.yticks(tick_marks, classes)\n",
    "\n",
    "    fmt = '.2f' if normalize else 'd'\n",
    "    thresh = cm.max() / 2.\n",
    "    for i, j in itertools.product(range(cm.shape[0]), range(cm.shape[1])):\n",
    "        plt.text(j, i, format(cm[i, j], fmt),\n",
    "                 horizontalalignment=\"center\",\n",
    "                 color=\"white\" if cm[i, j] > thresh else \"black\")\n",
    "\n",
    "    plt.ylabel('True label')\n",
    "    plt.xlabel('Predicted label')\n",
    "    plt.tight_layout()"
   ]
  },
  {
   "cell_type": "code",
   "execution_count": 32,
   "metadata": {},
   "outputs": [
    {
     "name": "stdout",
     "output_type": "stream",
     "text": [
      "Confusion matrix, without normalization\n",
      "[[  8268   4568]\n",
      " [  8061 142475]]\n"
     ]
    },
    {
     "data": {
      "image/png": "[encoded data removed]",
      "text/plain": [
       "<Figure size 432x288 with 2 Axes>"
      ]
     },
     "metadata": {
      "needs_background": "light"
     },
     "output_type": "display_data"
    }
   ],
   "source": [
    "from sklearn.metrics import confusion_matrix\n",
    "mtx = confusion_matrix(y_validation,predictions.argmax(axis=1))\n",
    "plot_confusion_matrix(mtx, classes=['background','signal'],\n",
    "                      title='Confusion matrix, without normalization')"
   ]
  },
  {
   "cell_type": "code",
   "execution_count": 33,
   "metadata": {},
   "outputs": [],
   "source": [
    "weight_validate = np.array([x if abs(x) <200 else np.sign(x) * 200 for x in weight_validation])"
   ]
  },
  {
   "cell_type": "code",
   "execution_count": 34,
   "metadata": {},
   "outputs": [
    {
     "data": {
      "text/plain": [
       "0.7737344669398244"
      ]
     },
     "execution_count": 34,
     "metadata": {},
     "output_type": "execute_result"
    }
   ],
   "source": [
    "from idao_util import scoring\n",
    "predictions = xgb.predict_proba(X_validation.values)[:,1]\n",
    "scoring.rejection90(y_validation, predictions, sample_weight=weight_validation)"
   ]
  },
  {
   "cell_type": "code",
   "execution_count": 35,
   "metadata": {},
   "outputs": [],
   "source": [
    "xgb.save_model(\"track_final.xgb\")"
   ]
  },
  {
   "cell_type": "code",
   "execution_count": 36,
   "metadata": {},
   "outputs": [
    {
     "data": {
      "text/plain": [
       "3148"
      ]
     },
     "execution_count": 36,
     "metadata": {},
     "output_type": "execute_result"
    }
   ],
   "source": [
    "import gc \n",
    "gc.collect()"
   ]
  },
  {
   "cell_type": "markdown",
   "metadata": {},
   "source": [
    "# Part 3. Test"
   ]
  },
  {
   "cell_type": "code",
   "execution_count": 37,
   "metadata": {},
   "outputs": [],
   "source": [
    "#testdata = pd.read_hdf('test_public_v2.hdf')\n",
    "testdata = pd.read_hdf('test_private_v2_track_1.hdf')"
   ]
  },
  {
   "cell_type": "code",
   "execution_count": 39,
   "metadata": {},
   "outputs": [
    {
     "name": "stderr",
     "output_type": "stream",
     "text": [
      "Pandas Apply: 100%|██████████| 1452188/1452188 [12:15<00:00, 1974.96it/s]\n"
     ]
    }
   ],
   "source": [
    "closest_hits_features = testdata.swifter.apply(\n",
    "    utils.find_closest_hit_per_station, result_type=\"expand\", axis=1)"
   ]
  },
  {
   "cell_type": "markdown",
   "metadata": {},
   "source": [
    "Repeat feature engineering process"
   ]
  },
  {
   "cell_type": "code",
   "execution_count": 40,
   "metadata": {},
   "outputs": [],
   "source": [
    "testdata['FOI_hits_b1_num']= testdata['FOI_hits_S'].apply(lambda x:list(x).count(1))\n",
    "testdata['FOI_hits_b2_num']= testdata['FOI_hits_S'].apply(lambda x:list(x).count(2))\n",
    "testdata['FOI_hits_b3_num']= testdata['FOI_hits_S'].apply(lambda x:list(x).count(3))\n",
    "testdata['FOI_hits_b4_num']= testdata['FOI_hits_S'].apply(lambda x:list(x).count(4))"
   ]
  },
  {
   "cell_type": "code",
   "execution_count": 41,
   "metadata": {},
   "outputs": [],
   "source": [
    "testdata['FOI_hits_DX_ave']= testdata['FOI_hits_DX'].apply(lambda x:np.mean(x))\n",
    "testdata['FOI_hits_DY_ave']= testdata['FOI_hits_DY'].apply(lambda x:np.mean(x))\n",
    "testdata['FOI_hits_DZ_ave']= testdata['FOI_hits_DZ'].apply(lambda x:np.mean(x))\n",
    "testdata['FOI_hits_DT_ave']= testdata['FOI_hits_DT'].apply(lambda x:np.mean(x))"
   ]
  },
  {
   "cell_type": "code",
   "execution_count": 42,
   "metadata": {},
   "outputs": [],
   "source": [
    "testdata['MatchedHit_T'] = testdata['MatchedHit_T[0]'] + testdata['MatchedHit_T[1]'] + testdata['MatchedHit_T[2]'] + data['MatchedHit_T[3]']"
   ]
  },
  {
   "cell_type": "code",
   "execution_count": 43,
   "metadata": {},
   "outputs": [
    {
     "name": "stderr",
     "output_type": "stream",
     "text": [
      "/home/ec2-user/anaconda3/lib/python3.7/site-packages/pandas/core/indexing.py:1472: FutureWarning: \n",
      "Passing list-likes to .loc or [] with any missing label will raise\n",
      "KeyError in the future, you can use .reindex() as an alternative.\n",
      "\n",
      "See the documentation here:\n",
      "https://pandas.pydata.org/pandas-docs/stable/indexing.html#deprecate-loc-reindex-listlike\n",
      "  return self._getitem_tuple(key)\n"
     ]
    }
   ],
   "source": [
    "testdata = pd.concat(\n",
    "    [testdata.loc[:, utils.SIMPLE_FEATURE_COLUMNS+['weight','FOI_hits_b1_num','FOI_hits_b2_num','FOI_hits_b3_num','FOI_hits_b4_num',\n",
    "                                                  'MatchedHit_T','FOI_hits_DX_ave','FOI_hits_DY_ave','FOI_hits_DZ_ave','FOI_hits_DT_ave']],\n",
    "     closest_hits_features], axis=1)"
   ]
  },
  {
   "cell_type": "code",
   "execution_count": 44,
   "metadata": {},
   "outputs": [],
   "source": [
    "testdata[24] = testdata[24].apply(lambda x: 0 if np.isnan(x) else x)"
   ]
  },
  {
   "cell_type": "code",
   "execution_count": 45,
   "metadata": {},
   "outputs": [],
   "source": [
    "testdata = pd.get_dummies(testdata,columns=data_columns)"
   ]
  },
  {
   "cell_type": "code",
   "execution_count": 46,
   "metadata": {},
   "outputs": [],
   "source": [
    "testdata['Missing_[2]'] = testdata['MatchedHit_X[2]'].apply(lambda x: int(x == -9999))\n",
    "testdata['Missing_[3]'] = testdata['MatchedHit_X[3]'].apply(lambda x: int(x == -9999))\n",
    "testdata['Missing_DT[0]'] = testdata['MatchedHit_DT[0]'].apply(lambda x: int(x == -1))\n",
    "testdata['Missing_DT[1]'] = testdata['MatchedHit_DT[1]'].apply(lambda x: int(x == -1))\n",
    "testdata['Missing_DT[2]'] = testdata['MatchedHit_DT[2]'].apply(lambda x: int(x == -1))\n",
    "testdata['Missing_DT[3]'] = testdata['MatchedHit_DT[3]'].apply(lambda x: int(x == -1))"
   ]
  },
  {
   "cell_type": "code",
   "execution_count": 47,
   "metadata": {},
   "outputs": [],
   "source": [
    "testdata['ndof'] = label_encoder.transform(testdata['ndof'])"
   ]
  },
  {
   "cell_type": "code",
   "execution_count": 48,
   "metadata": {},
   "outputs": [],
   "source": [
    "testdata['sum_cl'] = testdata['ncl[0]'] + testdata['ncl[1]'] + testdata['ncl[2]'] + testdata['ncl[3]']\n",
    "testdata['sum_cs'] = testdata['avg_cs[0]'] + testdata['avg_cs[1]'] + testdata['avg_cs[2]'] + testdata['avg_cs[3]']"
   ]
  },
  {
   "cell_type": "code",
   "execution_count": 49,
   "metadata": {},
   "outputs": [],
   "source": [
    "testdata['FE_1']= testdata['PT'] * testdata[3] \n",
    "testdata['FE_2']= testdata['sum_cs'] * testdata[6] "
   ]
  },
  {
   "cell_type": "code",
   "execution_count": 50,
   "metadata": {},
   "outputs": [],
   "source": [
    "weight_test = testdata['weight'].values\n",
    "testdata = testdata.drop(['weight'],axis=1)"
   ]
  },
  {
   "cell_type": "code",
   "execution_count": null,
   "metadata": {},
   "outputs": [],
   "source": [
    "#xgb = xgboost.XGBClassifier()\n",
    "#xgb.load_model('track_final.xgb')"
   ]
  },
  {
   "cell_type": "code",
   "execution_count": 53,
   "metadata": {},
   "outputs": [],
   "source": [
    "predictions_xgb = xgb.predict_proba(testdata.values)[:,1]"
   ]
  },
  {
   "cell_type": "code",
   "execution_count": 54,
   "metadata": {},
   "outputs": [],
   "source": [
    "pd.DataFrame(data={\"prediction\": predictions_xgb}, index=testdata.index).to_csv(\n",
    "    \"prediction_final.csv\", index_label=utils.ID_COLUMN)"
   ]
  },
  {
   "cell_type": "code",
   "execution_count": null,
   "metadata": {},
   "outputs": [],
   "source": []
  }
 ],
 "metadata": {
  "kernelspec": {
   "display_name": "Python 3",
   "language": "python",
   "name": "python3"
  },
  "language_info": {
   "codemirror_mode": {
    "name": "ipython",
    "version": 3
   },
   "file_extension": ".py",
   "mimetype": "text/x-python",
   "name": "python",
   "nbconvert_exporter": "python",
   "pygments_lexer": "ipython3",
   "version": "3.7.0"
  }
 },
 "nbformat": 4,
 "nbformat_minor": 2
}
